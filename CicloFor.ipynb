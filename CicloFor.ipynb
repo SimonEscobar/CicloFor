{
  "nbformat": 4,
  "nbformat_minor": 0,
  "metadata": {
    "colab": {
      "provenance": [],
      "authorship_tag": "ABX9TyMU+dZDeZFuwLh/hphIHBu1",
      "include_colab_link": true
    },
    "kernelspec": {
      "name": "python3",
      "display_name": "Python 3"
    },
    "language_info": {
      "name": "python"
    }
  },
  "cells": [
    {
      "cell_type": "markdown",
      "metadata": {
        "id": "view-in-github",
        "colab_type": "text"
      },
      "source": [
        "<a href=\"https://colab.research.google.com/github/SimonEscobar/CicloFor/blob/main/CicloFor.ipynb\" target=\"_parent\"><img src=\"https://colab.research.google.com/assets/colab-badge.svg\" alt=\"Open In Colab\"/></a>"
      ]
    },
    {
      "cell_type": "code",
      "execution_count": null,
      "metadata": {
        "id": "F7DpOh9bzzWC"
      },
      "outputs": [],
      "source": [
        "# Lista de nombres de amigos\n",
        "amigos = [\"Carlos\", \"Ana\", \"Juan\", \"Maria\"]\n",
        "\n",
        "# Usamos un ciclo for para saludar a cada amigo\n",
        "for amigo in amigos:\n",
        "    print(f\"¡Hola, {amigo}!\")"
      ]
    }
  ]
}